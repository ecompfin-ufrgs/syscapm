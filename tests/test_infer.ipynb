{
 "cells": [
  {
   "cell_type": "markdown",
   "id": "89b41fbd-2724-41a9-8122-e98fb2ef1e81",
   "metadata": {},
   "source": [
    "# Módulo de inferência econométrica (infer.py)"
   ]
  },
  {
   "cell_type": "code",
   "execution_count": null,
   "id": "773c69fb-19d4-4fc1-b08b-5310a28709b3",
   "metadata": {},
   "outputs": [],
   "source": []
  }
 ],
 "metadata": {
  "kernelspec": {
   "display_name": "Python 3 (ipykernel)",
   "language": "python",
   "name": "python3"
  },
  "language_info": {
   "codemirror_mode": {
    "name": "ipython",
    "version": 3
   },
   "file_extension": ".py",
   "mimetype": "text/x-python",
   "name": "python",
   "nbconvert_exporter": "python",
   "pygments_lexer": "ipython3",
   "version": "3.11.5"
  }
 },
 "nbformat": 4,
 "nbformat_minor": 5
}
